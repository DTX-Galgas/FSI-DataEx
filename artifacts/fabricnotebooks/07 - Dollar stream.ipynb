{
 "cells": [
  {
   "cell_type": "code",
   "execution_count": 2,
   "id": "407fd8f3-46d9-4b3c-9dfa-cb5f1dc0eb47",
   "metadata": {
    "jupyter": {
     "outputs_hidden": true
    },
    "microsoft": {
     "language": "python",
     "language_group": "synapse_pyspark"
    }
   },
   "outputs": [
    {
     "data": {
      "application/vnd.livy.statement-meta+json": {
       "execution_finish_time": "2025-01-20T11:22:47.1946983Z",
       "execution_start_time": "2025-01-20T11:22:30.3621035Z",
       "livy_statement_state": "available",
       "normalized_state": "finished",
       "parent_msg_id": "296cc995-6bc0-4bea-9419-d51bebf45153",
       "queued_time": "2025-01-20T11:22:29.915474Z",
       "session_id": "7e1e50ff-16f6-42e5-9a5b-52b220e6bc37",
       "session_start_time": null,
       "spark_pool": null,
       "state": "finished",
       "statement_id": 4,
       "statement_ids": [
        4
       ]
      },
      "text/plain": [
       "StatementMeta(, 7e1e50ff-16f6-42e5-9a5b-52b220e6bc37, 4, Finished, Available, Finished)"
      ]
     },
     "metadata": {},
     "output_type": "display_data"
    },
    {
     "name": "stdout",
     "output_type": "stream",
     "text": [
      "Collecting azure.eventhub\n",
      "  Downloading azure_eventhub-5.13.0-py3-none-any.whl.metadata (69 kB)\n",
      "\u001b[2K     \u001b[90m━━━━━━━━━━━━━━━━━━━━━━━━━━━━━━━━━━━━━━━━\u001b[0m \u001b[32m69.7/69.7 kB\u001b[0m \u001b[31m1.6 MB/s\u001b[0m eta \u001b[36m0:00:00\u001b[0ma \u001b[36m0:00:01\u001b[0m\n",
      "\u001b[?25hRequirement already satisfied: azure-core>=1.27.0 in /home/trusted-service-user/cluster-env/trident_env/lib/python3.11/site-packages (from azure.eventhub) (1.30.2)\n",
      "Requirement already satisfied: typing-extensions>=4.0.1 in /home/trusted-service-user/cluster-env/trident_env/lib/python3.11/site-packages (from azure.eventhub) (4.9.0)\n",
      "Requirement already satisfied: requests>=2.21.0 in /home/trusted-service-user/cluster-env/trident_env/lib/python3.11/site-packages (from azure-core>=1.27.0->azure.eventhub) (2.31.0)\n",
      "Requirement already satisfied: six>=1.11.0 in /home/trusted-service-user/cluster-env/trident_env/lib/python3.11/site-packages (from azure-core>=1.27.0->azure.eventhub) (1.16.0)\n",
      "Requirement already satisfied: charset-normalizer<4,>=2 in /home/trusted-service-user/cluster-env/trident_env/lib/python3.11/site-packages (from requests>=2.21.0->azure-core>=1.27.0->azure.eventhub) (2.0.4)\n",
      "Requirement already satisfied: idna<4,>=2.5 in /home/trusted-service-user/cluster-env/trident_env/lib/python3.11/site-packages (from requests>=2.21.0->azure-core>=1.27.0->azure.eventhub) (3.4)\n",
      "Requirement already satisfied: urllib3<3,>=1.21.1 in /home/trusted-service-user/cluster-env/trident_env/lib/python3.11/site-packages (from requests>=2.21.0->azure-core>=1.27.0->azure.eventhub) (2.1.0)\n",
      "Requirement already satisfied: certifi>=2017.4.17 in /home/trusted-service-user/cluster-env/trident_env/lib/python3.11/site-packages (from requests>=2.21.0->azure-core>=1.27.0->azure.eventhub) (2024.2.2)\n",
      "Downloading azure_eventhub-5.13.0-py3-none-any.whl (325 kB)\n",
      "\u001b[2K   \u001b[90m━━━━━━━━━━━━━━━━━━━━━━━━━━━━━━━━━━━━━━━━\u001b[0m \u001b[32m325.5/325.5 kB\u001b[0m \u001b[31m7.0 MB/s\u001b[0m eta \u001b[36m0:00:00\u001b[0ma \u001b[36m0:00:01\u001b[0m\n",
      "\u001b[?25hInstalling collected packages: azure.eventhub\n",
      "Successfully installed azure.eventhub-5.13.0\n",
      "Note: you may need to restart the kernel to use updated packages.\n"
     ]
    }
   ],
   "source": [
    "#pip install azure.eventhub"
   ]
  },
  {
   "cell_type": "code",
   "execution_count": 4,
   "id": "7824041a-fdd0-4da6-8a1c-6e89a5c3cee7",
   "metadata": {
    "microsoft": {
     "language": "python",
     "language_group": "synapse_pyspark"
    }
   },
   "outputs": [
    {
     "data": {
      "application/vnd.livy.statement-meta+json": {
       "execution_finish_time": "2025-01-20T11:39:51.8330956Z",
       "execution_start_time": "2025-01-20T11:28:21.2658474Z",
       "livy_statement_state": "cancelled",
       "normalized_state": "cancelled",
       "parent_msg_id": "561e8b34-f85c-47f0-b867-62e82ad434ef",
       "queued_time": "2025-01-20T11:28:20.8056362Z",
       "session_id": "7e1e50ff-16f6-42e5-9a5b-52b220e6bc37",
       "session_start_time": null,
       "spark_pool": null,
       "state": "finished",
       "statement_id": 6,
       "statement_ids": [
        6
       ]
      },
      "text/plain": [
       "StatementMeta(, 7e1e50ff-16f6-42e5-9a5b-52b220e6bc37, 6, Finished, Cancelled, Cancelled)"
      ]
     },
     "metadata": {},
     "output_type": "display_data"
    },
    {
     "name": "stdout",
     "output_type": "stream",
     "text": [
      "Dados enviados: {\"CurrencyType\": \"USD\", \"ExchangeRate\": 4.53, \"DateTimeUTC\": \"2025-01-20T11:28:21.983777\"}\n",
      "Dados enviados: {\"CurrencyType\": \"USD\", \"ExchangeRate\": 5.22, \"DateTimeUTC\": \"2025-01-20T11:28:27.181728\"}\n",
      "Dados enviados: {\"CurrencyType\": \"USD\", \"ExchangeRate\": 4.76, \"DateTimeUTC\": \"2025-01-20T11:28:32.231017\"}\n",
      "Dados enviados: {\"CurrencyType\": \"USD\", \"ExchangeRate\": 5.93, \"DateTimeUTC\": \"2025-01-20T11:28:37.307958\"}\n",
      "Dados enviados: {\"CurrencyType\": \"USD\", \"ExchangeRate\": 6.02, \"DateTimeUTC\": \"2025-01-20T11:28:42.358362\"}\n",
      "Dados enviados: {\"CurrencyType\": \"USD\", \"ExchangeRate\": 6.86, \"DateTimeUTC\": \"2025-01-20T11:28:47.408810\"}\n",
      "Dados enviados: {\"CurrencyType\": \"USD\", \"ExchangeRate\": 4.97, \"DateTimeUTC\": \"2025-01-20T11:28:52.461366\"}\n",
      "Dados enviados: {\"CurrencyType\": \"USD\", \"ExchangeRate\": 4.6, \"DateTimeUTC\": \"2025-01-20T11:28:57.510076\"}\n",
      "Dados enviados: {\"CurrencyType\": \"USD\", \"ExchangeRate\": 5.63, \"DateTimeUTC\": \"2025-01-20T11:29:02.559409\"}\n",
      "Dados enviados: {\"CurrencyType\": \"USD\", \"ExchangeRate\": 5.74, \"DateTimeUTC\": \"2025-01-20T11:29:07.609485\"}\n",
      "Dados enviados: {\"CurrencyType\": \"USD\", \"ExchangeRate\": 5.22, \"DateTimeUTC\": \"2025-01-20T11:29:12.665347\"}\n",
      "Dados enviados: {\"CurrencyType\": \"USD\", \"ExchangeRate\": 6.66, \"DateTimeUTC\": \"2025-01-20T11:29:17.715580\"}\n",
      "Dados enviados: {\"CurrencyType\": \"USD\", \"ExchangeRate\": 6.85, \"DateTimeUTC\": \"2025-01-20T11:29:22.763162\"}\n",
      "Dados enviados: {\"CurrencyType\": \"USD\", \"ExchangeRate\": 5.95, \"DateTimeUTC\": \"2025-01-20T11:29:27.812067\"}\n",
      "Dados enviados: {\"CurrencyType\": \"USD\", \"ExchangeRate\": 4.73, \"DateTimeUTC\": \"2025-01-20T11:29:32.860633\"}\n",
      "Dados enviados: {\"CurrencyType\": \"USD\", \"ExchangeRate\": 5.32, \"DateTimeUTC\": \"2025-01-20T11:29:37.910110\"}\n",
      "Dados enviados: {\"CurrencyType\": \"USD\", \"ExchangeRate\": 4.08, \"DateTimeUTC\": \"2025-01-20T11:29:42.959560\"}\n",
      "Dados enviados: {\"CurrencyType\": \"USD\", \"ExchangeRate\": 5.32, \"DateTimeUTC\": \"2025-01-20T11:29:48.008784\"}\n",
      "Dados enviados: {\"CurrencyType\": \"USD\", \"ExchangeRate\": 5.72, \"DateTimeUTC\": \"2025-01-20T11:29:53.060756\"}\n",
      "Dados enviados: {\"CurrencyType\": \"USD\", \"ExchangeRate\": 4.12, \"DateTimeUTC\": \"2025-01-20T11:29:58.109502\"}\n",
      "Dados enviados: {\"CurrencyType\": \"USD\", \"ExchangeRate\": 6.15, \"DateTimeUTC\": \"2025-01-20T11:30:03.159081\"}\n",
      "Dados enviados: {\"CurrencyType\": \"USD\", \"ExchangeRate\": 4.34, \"DateTimeUTC\": \"2025-01-20T11:30:08.209394\"}\n",
      "Dados enviados: {\"CurrencyType\": \"USD\", \"ExchangeRate\": 7.0, \"DateTimeUTC\": \"2025-01-20T11:30:13.258825\"}\n",
      "Dados enviados: {\"CurrencyType\": \"USD\", \"ExchangeRate\": 4.52, \"DateTimeUTC\": \"2025-01-20T11:30:18.308359\"}\n",
      "Dados enviados: {\"CurrencyType\": \"USD\", \"ExchangeRate\": 5.31, \"DateTimeUTC\": \"2025-01-20T11:30:23.357614\"}\n",
      "Dados enviados: {\"CurrencyType\": \"USD\", \"ExchangeRate\": 6.29, \"DateTimeUTC\": \"2025-01-20T11:30:28.407646\"}\n",
      "Dados enviados: {\"CurrencyType\": \"USD\", \"ExchangeRate\": 4.58, \"DateTimeUTC\": \"2025-01-20T11:30:33.455180\"}\n",
      "Dados enviados: {\"CurrencyType\": \"USD\", \"ExchangeRate\": 5.27, \"DateTimeUTC\": \"2025-01-20T11:30:38.503287\"}\n",
      "Dados enviados: {\"CurrencyType\": \"USD\", \"ExchangeRate\": 6.79, \"DateTimeUTC\": \"2025-01-20T11:30:43.552517\"}\n",
      "Dados enviados: {\"CurrencyType\": \"USD\", \"ExchangeRate\": 5.51, \"DateTimeUTC\": \"2025-01-20T11:30:48.600672\"}\n",
      "Dados enviados: {\"CurrencyType\": \"USD\", \"ExchangeRate\": 4.66, \"DateTimeUTC\": \"2025-01-20T11:30:53.652481\"}\n",
      "Dados enviados: {\"CurrencyType\": \"USD\", \"ExchangeRate\": 6.35, \"DateTimeUTC\": \"2025-01-20T11:30:58.701663\"}\n",
      "Dados enviados: {\"CurrencyType\": \"USD\", \"ExchangeRate\": 6.99, \"DateTimeUTC\": \"2025-01-20T11:31:03.751079\"}\n",
      "Dados enviados: {\"CurrencyType\": \"USD\", \"ExchangeRate\": 5.7, \"DateTimeUTC\": \"2025-01-20T11:31:08.806053\"}\n",
      "Dados enviados: {\"CurrencyType\": \"USD\", \"ExchangeRate\": 4.06, \"DateTimeUTC\": \"2025-01-20T11:31:13.856160\"}\n",
      "Dados enviados: {\"CurrencyType\": \"USD\", \"ExchangeRate\": 5.89, \"DateTimeUTC\": \"2025-01-20T11:31:18.904794\"}\n",
      "Dados enviados: {\"CurrencyType\": \"USD\", \"ExchangeRate\": 6.17, \"DateTimeUTC\": \"2025-01-20T11:31:23.952034\"}\n",
      "Dados enviados: {\"CurrencyType\": \"USD\", \"ExchangeRate\": 5.61, \"DateTimeUTC\": \"2025-01-20T11:31:29.001826\"}\n",
      "Dados enviados: {\"CurrencyType\": \"USD\", \"ExchangeRate\": 6.41, \"DateTimeUTC\": \"2025-01-20T11:31:34.051417\"}\n",
      "Dados enviados: {\"CurrencyType\": \"USD\", \"ExchangeRate\": 5.15, \"DateTimeUTC\": \"2025-01-20T11:31:39.100339\"}\n",
      "Dados enviados: {\"CurrencyType\": \"USD\", \"ExchangeRate\": 4.44, \"DateTimeUTC\": \"2025-01-20T11:31:44.184494\"}\n",
      "Dados enviados: {\"CurrencyType\": \"USD\", \"ExchangeRate\": 4.58, \"DateTimeUTC\": \"2025-01-20T11:31:49.234421\"}\n",
      "Dados enviados: {\"CurrencyType\": \"USD\", \"ExchangeRate\": 6.97, \"DateTimeUTC\": \"2025-01-20T11:31:54.285006\"}\n",
      "Dados enviados: {\"CurrencyType\": \"USD\", \"ExchangeRate\": 6.47, \"DateTimeUTC\": \"2025-01-20T11:31:59.389621\"}\n",
      "Dados enviados: {\"CurrencyType\": \"USD\", \"ExchangeRate\": 5.17, \"DateTimeUTC\": \"2025-01-20T11:32:04.439854\"}\n",
      "Dados enviados: {\"CurrencyType\": \"USD\", \"ExchangeRate\": 4.18, \"DateTimeUTC\": \"2025-01-20T11:32:09.488277\"}\n",
      "Dados enviados: {\"CurrencyType\": \"USD\", \"ExchangeRate\": 4.98, \"DateTimeUTC\": \"2025-01-20T11:32:14.536195\"}\n",
      "Dados enviados: {\"CurrencyType\": \"USD\", \"ExchangeRate\": 6.42, \"DateTimeUTC\": \"2025-01-20T11:32:19.583878\"}\n",
      "Dados enviados: {\"CurrencyType\": \"USD\", \"ExchangeRate\": 4.38, \"DateTimeUTC\": \"2025-01-20T11:32:24.631094\"}\n",
      "Dados enviados: {\"CurrencyType\": \"USD\", \"ExchangeRate\": 6.07, \"DateTimeUTC\": \"2025-01-20T11:32:29.678985\"}\n",
      "Dados enviados: {\"CurrencyType\": \"USD\", \"ExchangeRate\": 6.67, \"DateTimeUTC\": \"2025-01-20T11:32:34.728691\"}\n",
      "Dados enviados: {\"CurrencyType\": \"USD\", \"ExchangeRate\": 5.49, \"DateTimeUTC\": \"2025-01-20T11:32:39.777692\"}\n",
      "Dados enviados: {\"CurrencyType\": \"USD\", \"ExchangeRate\": 4.26, \"DateTimeUTC\": \"2025-01-20T11:32:44.826556\"}\n",
      "Dados enviados: {\"CurrencyType\": \"USD\", \"ExchangeRate\": 4.76, \"DateTimeUTC\": \"2025-01-20T11:32:49.877441\"}\n",
      "Dados enviados: {\"CurrencyType\": \"USD\", \"ExchangeRate\": 5.03, \"DateTimeUTC\": \"2025-01-20T11:32:54.941440\"}\n",
      "Dados enviados: {\"CurrencyType\": \"USD\", \"ExchangeRate\": 5.38, \"DateTimeUTC\": \"2025-01-20T11:32:59.991870\"}\n",
      "Dados enviados: {\"CurrencyType\": \"USD\", \"ExchangeRate\": 5.89, \"DateTimeUTC\": \"2025-01-20T11:33:05.044108\"}\n",
      "Dados enviados: {\"CurrencyType\": \"USD\", \"ExchangeRate\": 5.16, \"DateTimeUTC\": \"2025-01-20T11:33:10.094866\"}\n",
      "Dados enviados: {\"CurrencyType\": \"USD\", \"ExchangeRate\": 6.4, \"DateTimeUTC\": \"2025-01-20T11:33:15.146157\"}\n",
      "Dados enviados: {\"CurrencyType\": \"USD\", \"ExchangeRate\": 4.07, \"DateTimeUTC\": \"2025-01-20T11:33:20.226262\"}\n",
      "Dados enviados: {\"CurrencyType\": \"USD\", \"ExchangeRate\": 6.93, \"DateTimeUTC\": \"2025-01-20T11:33:25.281714\"}\n",
      "Dados enviados: {\"CurrencyType\": \"USD\", \"ExchangeRate\": 6.57, \"DateTimeUTC\": \"2025-01-20T11:33:30.331517\"}\n",
      "Dados enviados: {\"CurrencyType\": \"USD\", \"ExchangeRate\": 5.95, \"DateTimeUTC\": \"2025-01-20T11:33:35.384190\"}\n",
      "Dados enviados: {\"CurrencyType\": \"USD\", \"ExchangeRate\": 5.86, \"DateTimeUTC\": \"2025-01-20T11:33:40.434293\"}\n",
      "Dados enviados: {\"CurrencyType\": \"USD\", \"ExchangeRate\": 5.33, \"DateTimeUTC\": \"2025-01-20T11:33:45.487658\"}\n",
      "Dados enviados: {\"CurrencyType\": \"USD\", \"ExchangeRate\": 4.37, \"DateTimeUTC\": \"2025-01-20T11:33:50.538270\"}\n",
      "Dados enviados: {\"CurrencyType\": \"USD\", \"ExchangeRate\": 6.15, \"DateTimeUTC\": \"2025-01-20T11:33:55.589933\"}\n",
      "Dados enviados: {\"CurrencyType\": \"USD\", \"ExchangeRate\": 4.77, \"DateTimeUTC\": \"2025-01-20T11:34:00.650209\"}\n",
      "Dados enviados: {\"CurrencyType\": \"USD\", \"ExchangeRate\": 4.49, \"DateTimeUTC\": \"2025-01-20T11:34:05.702989\"}\n",
      "Dados enviados: {\"CurrencyType\": \"USD\", \"ExchangeRate\": 6.59, \"DateTimeUTC\": \"2025-01-20T11:34:10.754042\"}\n",
      "Dados enviados: {\"CurrencyType\": \"USD\", \"ExchangeRate\": 5.84, \"DateTimeUTC\": \"2025-01-20T11:34:15.805563\"}\n",
      "Dados enviados: {\"CurrencyType\": \"USD\", \"ExchangeRate\": 6.23, \"DateTimeUTC\": \"2025-01-20T11:34:20.857986\"}\n",
      "Dados enviados: {\"CurrencyType\": \"USD\", \"ExchangeRate\": 5.06, \"DateTimeUTC\": \"2025-01-20T11:34:25.911025\"}\n",
      "Dados enviados: {\"CurrencyType\": \"USD\", \"ExchangeRate\": 5.45, \"DateTimeUTC\": \"2025-01-20T11:34:30.961663\"}\n",
      "Dados enviados: {\"CurrencyType\": \"USD\", \"ExchangeRate\": 5.36, \"DateTimeUTC\": \"2025-01-20T11:34:36.015149\"}\n",
      "Dados enviados: {\"CurrencyType\": \"USD\", \"ExchangeRate\": 4.6, \"DateTimeUTC\": \"2025-01-20T11:34:41.067992\"}\n",
      "Dados enviados: {\"CurrencyType\": \"USD\", \"ExchangeRate\": 4.62, \"DateTimeUTC\": \"2025-01-20T11:34:46.117989\"}\n",
      "Dados enviados: {\"CurrencyType\": \"USD\", \"ExchangeRate\": 6.54, \"DateTimeUTC\": \"2025-01-20T11:34:51.168880\"}\n",
      "Dados enviados: {\"CurrencyType\": \"USD\", \"ExchangeRate\": 4.55, \"DateTimeUTC\": \"2025-01-20T11:34:56.219436\"}\n",
      "Dados enviados: {\"CurrencyType\": \"USD\", \"ExchangeRate\": 6.12, \"DateTimeUTC\": \"2025-01-20T11:35:01.270249\"}\n",
      "Dados enviados: {\"CurrencyType\": \"USD\", \"ExchangeRate\": 4.16, \"DateTimeUTC\": \"2025-01-20T11:35:06.320018\"}\n",
      "Dados enviados: {\"CurrencyType\": \"USD\", \"ExchangeRate\": 4.85, \"DateTimeUTC\": \"2025-01-20T11:35:11.371366\"}\n",
      "Dados enviados: {\"CurrencyType\": \"USD\", \"ExchangeRate\": 4.97, \"DateTimeUTC\": \"2025-01-20T11:35:16.424224\"}\n",
      "Dados enviados: {\"CurrencyType\": \"USD\", \"ExchangeRate\": 5.38, \"DateTimeUTC\": \"2025-01-20T11:35:21.476027\"}\n",
      "Dados enviados: {\"CurrencyType\": \"USD\", \"ExchangeRate\": 5.09, \"DateTimeUTC\": \"2025-01-20T11:35:26.526208\"}\n",
      "Dados enviados: {\"CurrencyType\": \"USD\", \"ExchangeRate\": 5.08, \"DateTimeUTC\": \"2025-01-20T11:35:31.577591\"}\n",
      "Dados enviados: {\"CurrencyType\": \"USD\", \"ExchangeRate\": 5.19, \"DateTimeUTC\": \"2025-01-20T11:35:36.629812\"}\n",
      "Dados enviados: {\"CurrencyType\": \"USD\", \"ExchangeRate\": 4.32, \"DateTimeUTC\": \"2025-01-20T11:35:41.707746\"}\n",
      "Dados enviados: {\"CurrencyType\": \"USD\", \"ExchangeRate\": 4.75, \"DateTimeUTC\": \"2025-01-20T11:35:46.758895\"}\n",
      "Dados enviados: {\"CurrencyType\": \"USD\", \"ExchangeRate\": 5.93, \"DateTimeUTC\": \"2025-01-20T11:35:51.809617\"}\n",
      "Dados enviados: {\"CurrencyType\": \"USD\", \"ExchangeRate\": 6.37, \"DateTimeUTC\": \"2025-01-20T11:35:56.882830\"}\n",
      "Dados enviados: {\"CurrencyType\": \"USD\", \"ExchangeRate\": 5.05, \"DateTimeUTC\": \"2025-01-20T11:36:01.934514\"}\n",
      "Dados enviados: {\"CurrencyType\": \"USD\", \"ExchangeRate\": 5.04, \"DateTimeUTC\": \"2025-01-20T11:36:06.984896\"}\n",
      "Dados enviados: {\"CurrencyType\": \"USD\", \"ExchangeRate\": 4.07, \"DateTimeUTC\": \"2025-01-20T11:36:12.035828\"}\n",
      "Dados enviados: {\"CurrencyType\": \"USD\", \"ExchangeRate\": 4.95, \"DateTimeUTC\": \"2025-01-20T11:36:17.085811\"}\n",
      "Dados enviados: {\"CurrencyType\": \"USD\", \"ExchangeRate\": 5.28, \"DateTimeUTC\": \"2025-01-20T11:36:22.138112\"}\n",
      "Dados enviados: {\"CurrencyType\": \"USD\", \"ExchangeRate\": 6.33, \"DateTimeUTC\": \"2025-01-20T11:36:27.188478\"}\n",
      "Dados enviados: {\"CurrencyType\": \"USD\", \"ExchangeRate\": 4.73, \"DateTimeUTC\": \"2025-01-20T11:36:32.237947\"}\n",
      "Dados enviados: {\"CurrencyType\": \"USD\", \"ExchangeRate\": 4.2, \"DateTimeUTC\": \"2025-01-20T11:36:37.288845\"}\n",
      "Dados enviados: {\"CurrencyType\": \"USD\", \"ExchangeRate\": 4.41, \"DateTimeUTC\": \"2025-01-20T11:36:42.339437\"}\n",
      "Dados enviados: {\"CurrencyType\": \"USD\", \"ExchangeRate\": 4.26, \"DateTimeUTC\": \"2025-01-20T11:36:47.443502\"}\n",
      "Dados enviados: {\"CurrencyType\": \"USD\", \"ExchangeRate\": 4.75, \"DateTimeUTC\": \"2025-01-20T11:36:52.493997\"}\n",
      "Dados enviados: {\"CurrencyType\": \"USD\", \"ExchangeRate\": 4.5, \"DateTimeUTC\": \"2025-01-20T11:36:57.545608\"}\n",
      "Dados enviados: {\"CurrencyType\": \"USD\", \"ExchangeRate\": 4.48, \"DateTimeUTC\": \"2025-01-20T11:37:02.595573\"}\n",
      "Dados enviados: {\"CurrencyType\": \"USD\", \"ExchangeRate\": 4.33, \"DateTimeUTC\": \"2025-01-20T11:37:07.645541\"}\n",
      "Dados enviados: {\"CurrencyType\": \"USD\", \"ExchangeRate\": 4.24, \"DateTimeUTC\": \"2025-01-20T11:37:12.741866\"}\n",
      "Dados enviados: {\"CurrencyType\": \"USD\", \"ExchangeRate\": 5.59, \"DateTimeUTC\": \"2025-01-20T11:37:17.793694\"}\n",
      "Dados enviados: {\"CurrencyType\": \"USD\", \"ExchangeRate\": 6.85, \"DateTimeUTC\": \"2025-01-20T11:37:22.848128\"}\n",
      "Dados enviados: {\"CurrencyType\": \"USD\", \"ExchangeRate\": 4.21, \"DateTimeUTC\": \"2025-01-20T11:37:27.900519\"}\n",
      "Dados enviados: {\"CurrencyType\": \"USD\", \"ExchangeRate\": 5.08, \"DateTimeUTC\": \"2025-01-20T11:37:32.951614\"}\n",
      "Dados enviados: {\"CurrencyType\": \"USD\", \"ExchangeRate\": 6.35, \"DateTimeUTC\": \"2025-01-20T11:37:38.003856\"}\n",
      "Dados enviados: {\"CurrencyType\": \"USD\", \"ExchangeRate\": 6.15, \"DateTimeUTC\": \"2025-01-20T11:37:43.055277\"}\n",
      "Dados enviados: {\"CurrencyType\": \"USD\", \"ExchangeRate\": 4.61, \"DateTimeUTC\": \"2025-01-20T11:37:48.106968\"}\n",
      "Dados enviados: {\"CurrencyType\": \"USD\", \"ExchangeRate\": 5.22, \"DateTimeUTC\": \"2025-01-20T11:37:53.159513\"}\n",
      "Dados enviados: {\"CurrencyType\": \"USD\", \"ExchangeRate\": 6.09, \"DateTimeUTC\": \"2025-01-20T11:37:58.213386\"}\n",
      "Dados enviados: {\"CurrencyType\": \"USD\", \"ExchangeRate\": 4.96, \"DateTimeUTC\": \"2025-01-20T11:38:03.270893\"}\n",
      "Dados enviados: {\"CurrencyType\": \"USD\", \"ExchangeRate\": 4.7, \"DateTimeUTC\": \"2025-01-20T11:38:08.322490\"}\n",
      "Dados enviados: {\"CurrencyType\": \"USD\", \"ExchangeRate\": 6.84, \"DateTimeUTC\": \"2025-01-20T11:38:13.373287\"}\n",
      "Dados enviados: {\"CurrencyType\": \"USD\", \"ExchangeRate\": 5.76, \"DateTimeUTC\": \"2025-01-20T11:38:18.423942\"}\n",
      "Dados enviados: {\"CurrencyType\": \"USD\", \"ExchangeRate\": 4.35, \"DateTimeUTC\": \"2025-01-20T11:38:23.487973\"}\n",
      "Dados enviados: {\"CurrencyType\": \"USD\", \"ExchangeRate\": 4.27, \"DateTimeUTC\": \"2025-01-20T11:38:28.539417\"}\n",
      "Dados enviados: {\"CurrencyType\": \"USD\", \"ExchangeRate\": 4.5, \"DateTimeUTC\": \"2025-01-20T11:38:33.591576\"}\n",
      "Dados enviados: {\"CurrencyType\": \"USD\", \"ExchangeRate\": 6.09, \"DateTimeUTC\": \"2025-01-20T11:38:38.640272\"}\n",
      "Dados enviados: {\"CurrencyType\": \"USD\", \"ExchangeRate\": 4.11, \"DateTimeUTC\": \"2025-01-20T11:38:43.694252\"}\n",
      "Dados enviados: {\"CurrencyType\": \"USD\", \"ExchangeRate\": 4.04, \"DateTimeUTC\": \"2025-01-20T11:38:48.745531\"}\n",
      "Dados enviados: {\"CurrencyType\": \"USD\", \"ExchangeRate\": 5.5, \"DateTimeUTC\": \"2025-01-20T11:38:53.797534\"}\n",
      "Dados enviados: {\"CurrencyType\": \"USD\", \"ExchangeRate\": 4.2, \"DateTimeUTC\": \"2025-01-20T11:38:58.847747\"}\n",
      "Dados enviados: {\"CurrencyType\": \"USD\", \"ExchangeRate\": 5.3, \"DateTimeUTC\": \"2025-01-20T11:39:03.899533\"}\n",
      "Dados enviados: {\"CurrencyType\": \"USD\", \"ExchangeRate\": 4.9, \"DateTimeUTC\": \"2025-01-20T11:39:08.948530\"}\n",
      "Dados enviados: {\"CurrencyType\": \"USD\", \"ExchangeRate\": 5.16, \"DateTimeUTC\": \"2025-01-20T11:39:13.998857\"}\n",
      "Dados enviados: {\"CurrencyType\": \"USD\", \"ExchangeRate\": 4.45, \"DateTimeUTC\": \"2025-01-20T11:39:19.050803\"}\n",
      "Dados enviados: {\"CurrencyType\": \"USD\", \"ExchangeRate\": 5.88, \"DateTimeUTC\": \"2025-01-20T11:39:24.111909\"}\n",
      "Dados enviados: {\"CurrencyType\": \"USD\", \"ExchangeRate\": 6.57, \"DateTimeUTC\": \"2025-01-20T11:39:29.163613\"}\n",
      "Dados enviados: {\"CurrencyType\": \"USD\", \"ExchangeRate\": 4.47, \"DateTimeUTC\": \"2025-01-20T11:39:34.217945\"}\n",
      "Dados enviados: {\"CurrencyType\": \"USD\", \"ExchangeRate\": 6.52, \"DateTimeUTC\": \"2025-01-20T11:39:39.267573\"}\n",
      "Dados enviados: {\"CurrencyType\": \"USD\", \"ExchangeRate\": 6.49, \"DateTimeUTC\": \"2025-01-20T11:39:44.318731\"}\n",
      "Dados enviados: {\"CurrencyType\": \"USD\", \"ExchangeRate\": 4.87, \"DateTimeUTC\": \"2025-01-20T11:39:49.367506\"}\n"
     ]
    }
   ],
   "source": [
    "import random\n",
    "import datetime\n",
    "import time\n",
    "from azure.eventhub import EventHubProducerClient, EventData\n",
    "import json  # Para manipulação de JSON\n",
    "\n",
    "# Configurações do Event Hub\n",
    "CONNECTION_STRING = \"Endpoint=sb://#EVENT HUB NAMESPACE#.servicebus.windows.net/;SharedAccessKeyName=#SHAREDACCESSKEYNAME#;SharedAccessKey=#SHAREDACCESSKEY#\"\n",
    "EVENT_HUB_NAME = \"#EVENT_HUB_NAME#\"\n",
    "\n",
    "# Função para gerar dados simulados do dólar\n",
    "def generate_dollar_data():\n",
    "    currency_type = \"USD\"  # Tipo de moeda\n",
    "    exchange_rate = round(random.uniform(4.0, 7.0), 2)  # Valor do dólar entre R$4 e R$7\n",
    "    datetime_utc = datetime.datetime.utcnow().isoformat()  # Timestamp UTC\n",
    "    return {\n",
    "        \"CurrencyType\": currency_type,\n",
    "        \"ExchangeRate\": exchange_rate,\n",
    "        \"DateTimeUTC\": datetime_utc\n",
    "    }\n",
    "\n",
    "# Função para enviar eventos\n",
    "def send_events():\n",
    "    producer = EventHubProducerClient.from_connection_string(conn_str=CONNECTION_STRING, eventhub_name=EVENT_HUB_NAME)\n",
    "    try:\n",
    "        while True:\n",
    "            # Cria um lote de eventos\n",
    "            event_data_batch = producer.create_batch()\n",
    "\n",
    "            # Gerar e adicionar dados simulados ao lote\n",
    "            for _ in range(3):  # Três eventos no lote\n",
    "                data = generate_dollar_data()\n",
    "                json_data = json.dumps(data)  # Converte o dicionário para JSON\n",
    "                event_data = EventData(json_data)  # Usa o JSON como dado\n",
    "                event_data_batch.add(event_data)\n",
    "\n",
    "            # Envia o lote para o Event Hub\n",
    "            producer.send_batch(event_data_batch)\n",
    "            print(f\"Dados enviados: {json_data}\")\n",
    "            \n",
    "            # Intervalo entre envios\n",
    "            time.sleep(5)\n",
    "\n",
    "    except Exception as e:\n",
    "        print(f\"Erro ao enviar dados: {e}\")\n",
    "\n",
    "    finally:\n",
    "        producer.close()\n",
    "\n",
    "if __name__ == \"__main__\":\n",
    "    send_events()\n",
    "\n"
   ]
  }
 ],
 "metadata": {
  "dependencies": {},
  "kernel_info": {
   "name": "synapse_pyspark"
  },
  "kernelspec": {
   "display_name": "Synapse PySpark",
   "language": "Python",
   "name": "synapse_pyspark"
  },
  "language_info": {
   "name": "python"
  },
  "microsoft": {
   "language": "python",
   "language_group": "synapse_pyspark",
   "ms_spell_check": {
    "ms_spell_check_language": "en"
   }
  },
  "nteract": {
   "version": "nteract-front-end@1.0.0"
  },
  "spark_compute": {
   "compute_id": "/trident/default",
   "session_options": {
    "conf": {
     "spark.synapse.nbs.session.timeout": "1200000"
    }
   }
  }
 },
 "nbformat": 4,
 "nbformat_minor": 5
}
